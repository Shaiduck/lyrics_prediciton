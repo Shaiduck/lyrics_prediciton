{
 "cells": [
  {
   "cell_type": "code",
   "execution_count": 1,
   "metadata": {},
   "outputs": [],
   "source": [
    "import pandas as pd"
   ]
  },
  {
   "cell_type": "code",
   "execution_count": 2,
   "metadata": {},
   "outputs": [
    {
     "data": {
      "text/html": [
       "<div>\n",
       "<style>\n",
       "    .dataframe thead tr:only-child th {\n",
       "        text-align: right;\n",
       "    }\n",
       "\n",
       "    .dataframe thead th {\n",
       "        text-align: left;\n",
       "    }\n",
       "\n",
       "    .dataframe tbody tr th {\n",
       "        vertical-align: top;\n",
       "    }\n",
       "</style>\n",
       "<table border=\"1\" class=\"dataframe\">\n",
       "  <thead>\n",
       "    <tr style=\"text-align: right;\">\n",
       "      <th></th>\n",
       "      <th>disc_number</th>\n",
       "      <th>duration_ms</th>\n",
       "      <th>name</th>\n",
       "      <th>track_number</th>\n",
       "      <th>album</th>\n",
       "      <th>artist</th>\n",
       "      <th>author</th>\n",
       "      <th>lyrics_url</th>\n",
       "      <th>lyrics</th>\n",
       "    </tr>\n",
       "  </thead>\n",
       "  <tbody>\n",
       "    <tr>\n",
       "      <th>222</th>\n",
       "      <td>1</td>\n",
       "      <td>205986</td>\n",
       "      <td>Yo Miro Tu Amor</td>\n",
       "      <td>4</td>\n",
       "      <td>Para Los Arboles</td>\n",
       "      <td>Luis Alberto Spinetta</td>\n",
       "      <td>Luis Alberto Spinetta</td>\n",
       "      <td>https://genius.com/Luis-alberto-spinetta-yo-mi...</td>\n",
       "      <td>En tanto que la lluvia... ( así ) Lava, mis ...</td>\n",
       "    </tr>\n",
       "    <tr>\n",
       "      <th>37</th>\n",
       "      <td>1</td>\n",
       "      <td>89773</td>\n",
       "      <td>Jingle</td>\n",
       "      <td>19</td>\n",
       "      <td>El 1er Álbum Más los Singles</td>\n",
       "      <td>Almendra</td>\n",
       "      <td>Luis Alberto Spinetta</td>\n",
       "      <td>https://genius.com/Almendra-jingle-lyrics</td>\n",
       "      <td>Vuelve del cuento feroz Su sombra está por s...</td>\n",
       "    </tr>\n",
       "    <tr>\n",
       "      <th>215</th>\n",
       "      <td>1</td>\n",
       "      <td>356500</td>\n",
       "      <td>Atado A Tu Frontera</td>\n",
       "      <td>9</td>\n",
       "      <td>Pan</td>\n",
       "      <td>Luis Alberto Spinetta</td>\n",
       "      <td>Luis Alberto Spinetta</td>\n",
       "      <td>https://genius.com/Luis-alberto-spinetta-atado...</td>\n",
       "      <td>En la inconsolable noche tu voz Aullando me ...</td>\n",
       "    </tr>\n",
       "    <tr>\n",
       "      <th>307</th>\n",
       "      <td>1</td>\n",
       "      <td>242750</td>\n",
       "      <td>Yo Quiero Ver Un Tren</td>\n",
       "      <td>2</td>\n",
       "      <td>Mondo Di Cromo</td>\n",
       "      <td>Luis Alberto Spinetta</td>\n",
       "      <td>Luis Alberto Spinetta</td>\n",
       "      <td>https://genius.com/Luis-alberto-spinetta-yo-qu...</td>\n",
       "      <td>Yo nunca me imaginé regresar a mi tiempo de ...</td>\n",
       "    </tr>\n",
       "    <tr>\n",
       "      <th>106</th>\n",
       "      <td>1</td>\n",
       "      <td>165893</td>\n",
       "      <td>Siguiendo Los Pasos Del Maestro</td>\n",
       "      <td>5</td>\n",
       "      <td>Los Niños Que Escriben En El Cielo</td>\n",
       "      <td>Spinetta Jade</td>\n",
       "      <td>Luis Alberto Spinetta</td>\n",
       "      <td>https://genius.com/Spinetta-jade-siguiendo-los...</td>\n",
       "      <td>-</td>\n",
       "    </tr>\n",
       "  </tbody>\n",
       "</table>\n",
       "</div>"
      ],
      "text/plain": [
       "     disc_number  duration_ms                             name  track_number  \\\n",
       "222            1       205986                  Yo Miro Tu Amor             4   \n",
       "37             1        89773                           Jingle            19   \n",
       "215            1       356500              Atado A Tu Frontera             9   \n",
       "307            1       242750            Yo Quiero Ver Un Tren             2   \n",
       "106            1       165893  Siguiendo Los Pasos Del Maestro             5   \n",
       "\n",
       "                                  album                 artist  \\\n",
       "222                    Para Los Arboles  Luis Alberto Spinetta   \n",
       "37         El 1er Álbum Más los Singles               Almendra   \n",
       "215                                 Pan  Luis Alberto Spinetta   \n",
       "307                      Mondo Di Cromo  Luis Alberto Spinetta   \n",
       "106  Los Niños Que Escriben En El Cielo          Spinetta Jade   \n",
       "\n",
       "                    author                                         lyrics_url  \\\n",
       "222  Luis Alberto Spinetta  https://genius.com/Luis-alberto-spinetta-yo-mi...   \n",
       "37   Luis Alberto Spinetta          https://genius.com/Almendra-jingle-lyrics   \n",
       "215  Luis Alberto Spinetta  https://genius.com/Luis-alberto-spinetta-atado...   \n",
       "307  Luis Alberto Spinetta  https://genius.com/Luis-alberto-spinetta-yo-qu...   \n",
       "106  Luis Alberto Spinetta  https://genius.com/Spinetta-jade-siguiendo-los...   \n",
       "\n",
       "                                                lyrics  \n",
       "222    En tanto que la lluvia... ( así ) Lava, mis ...  \n",
       "37     Vuelve del cuento feroz Su sombra está por s...  \n",
       "215    En la inconsolable noche tu voz Aullando me ...  \n",
       "307    Yo nunca me imaginé regresar a mi tiempo de ...  \n",
       "106                                                  -  "
      ]
     },
     "execution_count": 2,
     "metadata": {},
     "output_type": "execute_result"
    }
   ],
   "source": [
    "df = pd.read_csv('data/complete_spinetta.csv', sep=';')\n",
    "df.sample(5)"
   ]
  },
  {
   "cell_type": "markdown",
   "metadata": {},
   "source": [
    "## MARKOV"
   ]
  },
  {
   "cell_type": "markdown",
   "metadata": {},
   "source": [
    "__Get list of all lyrics of non instrumental songs__"
   ]
  },
  {
   "cell_type": "code",
   "execution_count": 3,
   "metadata": {},
   "outputs": [],
   "source": [
    "lyrics = df[df['lyrics'] != '-'].lyrics.values"
   ]
  },
  {
   "cell_type": "code",
   "execution_count": 4,
   "metadata": {},
   "outputs": [],
   "source": [
    "def train_markov_chain(lyrics):\n",
    "    \"\"\"\n",
    "    Args:\n",
    "      - lyrics: a list of strings, where each string represents\n",
    "                the lyrics of one song by an artist.\n",
    "    Returns:\n",
    "      A dict that maps a tuple of 2 words (\"bigram\") to a list of\n",
    "      words that follow that bigram, representing the Markov\n",
    "      chain trained on the lyrics.\n",
    "    \"\"\"\n",
    "\n",
    "    # Initialize the beginning of our chain.\n",
    "    chain = {\n",
    "        (None, \"<START>\"): []\n",
    "    }\n",
    "\n",
    "    for lyric in lyrics:\n",
    "        # Replace newline characters with our tag.\n",
    "        lyric_newlines = lyric.replace('\\n', ' <N> ')\n",
    "        # Create a tuple representing the most recent (current) bigram.\n",
    "        last_2 = (None, \"<START>\")\n",
    "        for word in lyric_newlines.split():\n",
    "            # Add the word as one that follows the current bigram.\n",
    "            chain[last_2].append(word)\n",
    "            # Shift the current bigram to account for the newly added word.\n",
    "            last_2 = (last_2[1], word)\n",
    "            if last_2 not in chain:\n",
    "                chain[last_2] = []\n",
    "        chain[last_2].append(\"<END>\")\n",
    "\n",
    "    return chain"
   ]
  },
  {
   "cell_type": "code",
   "execution_count": 5,
   "metadata": {},
   "outputs": [],
   "source": [
    "# Train a Markov Chain over all of Logic's lyrics.\n",
    "chain = train_markov_chain(lyrics)"
   ]
  },
  {
   "cell_type": "code",
   "execution_count": 6,
   "metadata": {},
   "outputs": [],
   "source": [
    "import random\n",
    "\n",
    "def generate_new_lyrics(chain):\n",
    "    \"\"\"\n",
    "    Args:\n",
    "      - chain: a dict representing the Markov chain,\n",
    "               such as one generated by generate_new_lyrics()\n",
    "    Returns:\n",
    "      A string representing the randomly generated song.\n",
    "    \"\"\"\n",
    "\n",
    "    # a list for storing the generated words\n",
    "    words = []\n",
    "    # generate the first word\n",
    "    word = random.choice(chain[(None, \"<START>\")])\n",
    "    words.append(word)\n",
    "\n",
    "    # Begin with the first bigram in our chain.\n",
    "    last_2 = (None, \"<START>\")\n",
    "    while words[-1] != \"<END>\":\n",
    "        # Generate the next word.\n",
    "        word = random.choice(chain[last_2])\n",
    "        words.append(word)\n",
    "        # Shift the current bigram to account for the newly added word.\n",
    "        last_2 = (last_2[1], words[-1])\n",
    "\n",
    "    # Join the words together into a string with line breaks.\n",
    "    lyrics = \" \".join(words[:-1])\n",
    "    return \"\\n\".join(lyrics.split(\"<N>\"))"
   ]
  },
  {
   "cell_type": "code",
   "execution_count": 13,
   "metadata": {},
   "outputs": [
    {
     "name": "stdout",
     "output_type": "stream",
     "text": [
      "Yo Entre las miserias Y el concierto del aire \n",
      " Y dejé mis zapatos para un niño nace \n",
      " las nubes vendrán.... Trayendo mensajes... En el nadie de la city \n",
      " y como un canto \n",
      " canta porque es vida \n",
      " al quebrar un llanto Luna y espera de serrazón Pronto esto cambiará Es un espejo de cristal\n"
     ]
    }
   ],
   "source": [
    "print(generate_new_lyrics(chain))"
   ]
  },
  {
   "cell_type": "code",
   "execution_count": 14,
   "metadata": {},
   "outputs": [
    {
     "name": "stdout",
     "output_type": "stream",
     "text": [
      "Gigante ¡Oh!, ¿quien te puede ver? \n",
      " cuando la luna en diamantes... Es un milagro te haría salir Del barro no volverá Adentro queda un cuerpo Entre tus lágrimas Y el durazno partido Ya sangrando está bajo el sol a sol \n",
      " sobre todo niños \n",
      " si alguna vez desde mis pies Bailando porque soy mestizo Voy al norte de nada Donde sopla el viento te arrebatará... Esa hoja escrita Con tu molinete Que los amos No descansan... Ya no me digas que se inyectan ciudades ¿y qué? ¿acaso no marchitan los navíos y las rosas en los jardines nena Esta es mi feroz canción Para dormir en el cosmos Ahí va el Capitán Beto por el mal Se ríe el niño Y así yo en la canción así Una esquina desigual y un rayo al amanecer. \n",
      " \n",
      " Tengo fiebre \n",
      " cincuenta y pico \n",
      " tengo un vientre blanco Dale tibia leche de tu alma Para impulsar a este mágico Y misterioso mundo Ah !, luego en el más allá Ludmila Ludmila yo veo Tus dedos de mimbre Quiero saber porque lloran... Ti, ti, ti, ti, ti, ti, ti\n"
     ]
    }
   ],
   "source": [
    "print(generate_new_lyrics(chain))"
   ]
  },
  {
   "cell_type": "code",
   "execution_count": 16,
   "metadata": {},
   "outputs": [
    {
     "name": "stdout",
     "output_type": "stream",
     "text": [
      "Me Caído de un vuelo limpio Entre túneles de luz Y esta vez no aceptes que otro amor vendrá. \n",
      " \n",
      " Un sueño de alguien que se da... Solo refleja en edificios mudos... Contra el muro Al que no duermen No hay amigos, solo una Todo el mundo es extravío, \n",
      " en sí La fuerza del fuego La voz de Cris me llega igual Y veo la cara de aquella canción sin fin Y además Dale gracias por estar cerca de ti Todo se ha movido con oscuridad Todo este tiempo Ya sé, ya no existe aquí Un congelado amanecer Tiñe de blanco hasta mi Vamos a mi! A mi! Si las flores que esperan... Condición de fulgor en algún planeta, en algún lugar \n",
      " con las manos ante Bosnia Algo se está cayendo Es ese cielo Te voy a estar En este cementerio Qué calor hará sin vos En mi nunca la luz del amanecer... ¡Oh mi amor Esta vez solo quiero una sola cosa Dame tu luz Veo así a través de un grito De inocencia... ¿es que nunca calla Solo se ve se ama se pierde en el mar, el mar \n",
      " Algo se acumula en mí Y la distancia no me mires dicta tu soledad Dices que me abras los ojos y toma el taxi!!! \n",
      " HUUH!! Yeah!!! \n",
      " Lulu Toma el tren hacia el mar descansará... ¿Habrá crecido un tallo en el ocaso Y asi tus manos en el sol Solo quiero que tu amor es una canción \n",
      " sin saber porque.\n"
     ]
    }
   ],
   "source": [
    "print(generate_new_lyrics(chain))"
   ]
  },
  {
   "cell_type": "code",
   "execution_count": 23,
   "metadata": {},
   "outputs": [
    {
     "name": "stdout",
     "output_type": "stream",
     "text": [
      "Instant-táneas Nena, tu cabeza va a estallar Ondas en aire Ondas en aire Un columpio fabuloso en el rebaño del pastor...\n"
     ]
    }
   ],
   "source": [
    "print(generate_new_lyrics(chain))"
   ]
  },
  {
   "cell_type": "code",
   "execution_count": 24,
   "metadata": {},
   "outputs": [
    {
     "name": "stdout",
     "output_type": "stream",
     "text": [
      "Márcame, El mandarín Se descentró Sus manos ya no toca un libro de sal, \n",
      " valle de eterna sal... \n",
      " hoyo en la leña... \n",
      " \n",
      " Un destello en el aire En la rapsodia típica de Bosnia Donde el mundo tu ser te dolerá al fin A la luna Viejo roble del camino Tus hojas siempre se la llevan detenida Como a una estrella en su luz El cielo en blanco enorme lejísimo Cielo en blanco enorme lejísimo Cielo en blanco enorme lejísimo Cielo en blanco enorme lejísimo Cielo en blanco enorme lejísimo Lejísimo lejísimo Nosotros adentro Nosotros adentro Yo quiero ver Si acaso las nubes vendrán.... Trayendo mensajes...\n"
     ]
    }
   ],
   "source": [
    "print(generate_new_lyrics(chain))"
   ]
  },
  {
   "cell_type": "code",
   "execution_count": null,
   "metadata": {},
   "outputs": [],
   "source": []
  }
 ],
 "metadata": {
  "kernelspec": {
   "display_name": "Python 3",
   "language": "python",
   "name": "python3"
  },
  "language_info": {
   "codemirror_mode": {
    "name": "ipython",
    "version": 3
   },
   "file_extension": ".py",
   "mimetype": "text/x-python",
   "name": "python",
   "nbconvert_exporter": "python",
   "pygments_lexer": "ipython3",
   "version": "3.6.7"
  }
 },
 "nbformat": 4,
 "nbformat_minor": 2
}
