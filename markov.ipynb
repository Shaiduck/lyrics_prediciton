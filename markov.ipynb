{
 "cells": [
  {
   "cell_type": "code",
   "execution_count": 1,
   "metadata": {},
   "outputs": [],
   "source": [
    "import pandas as pd"
   ]
  },
  {
   "cell_type": "code",
   "execution_count": 2,
   "metadata": {},
   "outputs": [
    {
     "data": {
      "text/html": [
       "<div>\n",
       "<style>\n",
       "    .dataframe thead tr:only-child th {\n",
       "        text-align: right;\n",
       "    }\n",
       "\n",
       "    .dataframe thead th {\n",
       "        text-align: left;\n",
       "    }\n",
       "\n",
       "    .dataframe tbody tr th {\n",
       "        vertical-align: top;\n",
       "    }\n",
       "</style>\n",
       "<table border=\"1\" class=\"dataframe\">\n",
       "  <thead>\n",
       "    <tr style=\"text-align: right;\">\n",
       "      <th></th>\n",
       "      <th>disc_number</th>\n",
       "      <th>duration_ms</th>\n",
       "      <th>name</th>\n",
       "      <th>track_number</th>\n",
       "      <th>album</th>\n",
       "      <th>artist</th>\n",
       "      <th>author</th>\n",
       "      <th>lyrics_url</th>\n",
       "      <th>lyrics</th>\n",
       "    </tr>\n",
       "  </thead>\n",
       "  <tbody>\n",
       "    <tr>\n",
       "      <th>103</th>\n",
       "      <td>1</td>\n",
       "      <td>254490</td>\n",
       "      <td>La Herida De París</td>\n",
       "      <td>2</td>\n",
       "      <td>Los Niños Que Escriben En El Cielo</td>\n",
       "      <td>Spinetta Jade</td>\n",
       "      <td>Luis Alberto Spinetta</td>\n",
       "      <td>https://genius.com/Spinetta-jade-la-herida-de-...</td>\n",
       "      <td>Lenta bruma cansada de dar al muelle No veo ...</td>\n",
       "    </tr>\n",
       "    <tr>\n",
       "      <th>105</th>\n",
       "      <td>1</td>\n",
       "      <td>345500</td>\n",
       "      <td>Sexo</td>\n",
       "      <td>4</td>\n",
       "      <td>Los Niños Que Escriben En El Cielo</td>\n",
       "      <td>Spinetta Jade</td>\n",
       "      <td>Luis Alberto Spinetta</td>\n",
       "      <td>https://genius.com/Spinetta-jade-sexo-lyrics</td>\n",
       "      <td>Sexo, amo tu sexo mujer No creo en nada si n...</td>\n",
       "    </tr>\n",
       "    <tr>\n",
       "      <th>5</th>\n",
       "      <td>1</td>\n",
       "      <td>248266</td>\n",
       "      <td>Doscientos Años</td>\n",
       "      <td>6</td>\n",
       "      <td>El Jardin de los Presentes</td>\n",
       "      <td>Invisible</td>\n",
       "      <td>Luis Alberto Spinetta</td>\n",
       "      <td>https://genius.com/Invisible-doscientos-anos-l...</td>\n",
       "      <td>Una palabra  Dame una palabra...  Una palabr...</td>\n",
       "    </tr>\n",
       "    <tr>\n",
       "      <th>265</th>\n",
       "      <td>1</td>\n",
       "      <td>209560</td>\n",
       "      <td>Domo Tu</td>\n",
       "      <td>6</td>\n",
       "      <td>Peluson Of Milk</td>\n",
       "      <td>Luis Alberto Spinetta</td>\n",
       "      <td>Luis Alberto Spinetta</td>\n",
       "      <td>https://genius.com/Luis-alberto-spinetta-domo-...</td>\n",
       "      <td>La arena se volvió hacia el mar En un enorme...</td>\n",
       "    </tr>\n",
       "    <tr>\n",
       "      <th>310</th>\n",
       "      <td>1</td>\n",
       "      <td>173000</td>\n",
       "      <td>Símil Bahion</td>\n",
       "      <td>5</td>\n",
       "      <td>Mondo Di Cromo</td>\n",
       "      <td>Luis Alberto Spinetta</td>\n",
       "      <td>Luis Alberto Spinetta</td>\n",
       "      <td>NaN</td>\n",
       "      <td>-</td>\n",
       "    </tr>\n",
       "  </tbody>\n",
       "</table>\n",
       "</div>"
      ],
      "text/plain": [
       "     disc_number  duration_ms                name  track_number  \\\n",
       "103            1       254490  La Herida De París             2   \n",
       "105            1       345500                Sexo             4   \n",
       "5              1       248266     Doscientos Años             6   \n",
       "265            1       209560             Domo Tu             6   \n",
       "310            1       173000        Símil Bahion             5   \n",
       "\n",
       "                                  album                 artist  \\\n",
       "103  Los Niños Que Escriben En El Cielo          Spinetta Jade   \n",
       "105  Los Niños Que Escriben En El Cielo          Spinetta Jade   \n",
       "5            El Jardin de los Presentes              Invisible   \n",
       "265                     Peluson Of Milk  Luis Alberto Spinetta   \n",
       "310                      Mondo Di Cromo  Luis Alberto Spinetta   \n",
       "\n",
       "                    author                                         lyrics_url  \\\n",
       "103  Luis Alberto Spinetta  https://genius.com/Spinetta-jade-la-herida-de-...   \n",
       "105  Luis Alberto Spinetta       https://genius.com/Spinetta-jade-sexo-lyrics   \n",
       "5    Luis Alberto Spinetta  https://genius.com/Invisible-doscientos-anos-l...   \n",
       "265  Luis Alberto Spinetta  https://genius.com/Luis-alberto-spinetta-domo-...   \n",
       "310  Luis Alberto Spinetta                                                NaN   \n",
       "\n",
       "                                                lyrics  \n",
       "103    Lenta bruma cansada de dar al muelle No veo ...  \n",
       "105    Sexo, amo tu sexo mujer No creo en nada si n...  \n",
       "5      Una palabra  Dame una palabra...  Una palabr...  \n",
       "265    La arena se volvió hacia el mar En un enorme...  \n",
       "310                                                  -  "
      ]
     },
     "execution_count": 2,
     "metadata": {},
     "output_type": "execute_result"
    }
   ],
   "source": [
    "df = pd.read_csv('data/complete_spinetta.csv', sep=';')\n",
    "df.sample(5)"
   ]
  },
  {
   "cell_type": "markdown",
   "metadata": {},
   "source": [
    "## MARKOV"
   ]
  },
  {
   "cell_type": "markdown",
   "metadata": {},
   "source": [
    "__Get list of all lyrics of non instrumental songs__"
   ]
  },
  {
   "cell_type": "code",
   "execution_count": 7,
   "metadata": {},
   "outputs": [],
   "source": [
    "lyrics = df[df['lyrics'] != '-'].lyrics.values"
   ]
  },
  {
   "cell_type": "code",
   "execution_count": 8,
   "metadata": {},
   "outputs": [],
   "source": [
    "def train_markov_chain(lyrics):\n",
    "    \"\"\"\n",
    "    Args:\n",
    "      - lyrics: a list of strings, where each string represents\n",
    "                the lyrics of one song by an artist.\n",
    "    Returns:\n",
    "      A dict that maps a tuple of 2 words (\"bigram\") to a list of\n",
    "      words that follow that bigram, representing the Markov\n",
    "      chain trained on the lyrics.\n",
    "    \"\"\"\n",
    "\n",
    "    # Initialize the beginning of our chain.\n",
    "    chain = {\n",
    "        (None, \"<START>\"): []\n",
    "    }\n",
    "\n",
    "    for lyric in lyrics:\n",
    "        # Replace newline characters with our tag.\n",
    "        lyric_newlines = lyric.replace('\\n', ' <N> ')\n",
    "        # Create a tuple representing the most recent (current) bigram.\n",
    "        last_2 = (None, \"<START>\")\n",
    "        for word in lyric_newlines.split():\n",
    "            # Add the word as one that follows the current bigram.\n",
    "            chain[last_2].append(word)\n",
    "            # Shift the current bigram to account for the newly added word.\n",
    "            last_2 = (last_2[1], word)\n",
    "            if last_2 not in chain:\n",
    "                chain[last_2] = []\n",
    "        chain[last_2].append(\"<END>\")\n",
    "\n",
    "    return chain"
   ]
  },
  {
   "cell_type": "code",
   "execution_count": 9,
   "metadata": {},
   "outputs": [],
   "source": [
    "# Train a Markov Chain over all of Logic's lyrics.\n",
    "chain = train_markov_chain(lyrics)"
   ]
  },
  {
   "cell_type": "code",
   "execution_count": 12,
   "metadata": {},
   "outputs": [],
   "source": [
    "import random\n",
    "\n",
    "def generate_new_lyrics(chain):\n",
    "    \"\"\"\n",
    "    Args:\n",
    "      - chain: a dict representing the Markov chain,\n",
    "               such as one generated by generate_new_lyrics()\n",
    "    Returns:\n",
    "      A string representing the randomly generated song.\n",
    "    \"\"\"\n",
    "\n",
    "    # a list for storing the generated words\n",
    "    words = []\n",
    "    # generate the first word\n",
    "    word = random.choice(chain[(None, \"<START>\")])\n",
    "    words.append(word)\n",
    "\n",
    "    # Begin with the first bigram in our chain.\n",
    "    last_2 = (None, \"<START>\")\n",
    "    while words[-1] != \"<END>\":\n",
    "        # Generate the next word.\n",
    "        word = random.choice(chain[last_2])\n",
    "        words.append(word)\n",
    "        # Shift the current bigram to account for the newly added word.\n",
    "        last_2 = (last_2[1], words[-1])\n",
    "\n",
    "    # Join the words together into a string with line breaks.\n",
    "    lyrics = \" \".join(words[:-1])\n",
    "    return \"\\n\".join(lyrics.split(\"<N>\"))"
   ]
  },
  {
   "cell_type": "code",
   "execution_count": 13,
   "metadata": {},
   "outputs": [
    {
     "name": "stdout",
     "output_type": "stream",
     "text": [
      "Vive Hirohito: -\"La calle es la luz Tan sólo estando así contigo Yo veo mi elemento Veo en el mar,es un espejo en una cinta con la noche Que gime el viento Todo dura un instante Bajo el sol Y no sé así porque razón Los barcos vienen y se perdió en la adolescencia Correrás al fin Un dulzón, un temor Un escape hacia el mar.\n"
     ]
    }
   ],
   "source": [
    "print(generate_new_lyrics(chain))"
   ]
  },
  {
   "cell_type": "code",
   "execution_count": null,
   "metadata": {},
   "outputs": [],
   "source": []
  }
 ],
 "metadata": {
  "kernelspec": {
   "display_name": "Python 3",
   "language": "python",
   "name": "python3"
  },
  "language_info": {
   "codemirror_mode": {
    "name": "ipython",
    "version": 3
   },
   "file_extension": ".py",
   "mimetype": "text/x-python",
   "name": "python",
   "nbconvert_exporter": "python",
   "pygments_lexer": "ipython3",
   "version": "3.6.2"
  }
 },
 "nbformat": 4,
 "nbformat_minor": 2
}
