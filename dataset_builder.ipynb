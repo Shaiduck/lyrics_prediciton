{
 "cells": [
  {
   "cell_type": "code",
   "execution_count": 1,
   "metadata": {},
   "outputs": [],
   "source": [
    "import pandas as pd\n",
    "import json\n",
    "import requests\n",
    "from bs4 import BeautifulSoup\n",
    "import re\n",
    "import numpy as np\n",
    "import spotipy\n",
    "from spotipy.oauth2 import SpotifyClientCredentials\n",
    "from IPython.display import clear_output"
   ]
  },
  {
   "cell_type": "markdown",
   "metadata": {},
   "source": [
    "### Almendra, Pescado Rabioso, Invisible, Spinetta Jade, Spinetta y los Socios del Desierto, Luis Alberto Spinetta\n",
    "https://es.wikipedia.org/wiki/Anexo:Discografía_de_Luis_Alberto_Spinetta"
   ]
  },
  {
   "cell_type": "markdown",
   "metadata": {},
   "source": [
    " ### Spotify!"
   ]
  },
  {
   "cell_type": "markdown",
   "metadata": {},
   "source": [
    "First, connect to the API with your credentials."
   ]
  },
  {
   "cell_type": "code",
   "execution_count": 2,
   "metadata": {},
   "outputs": [],
   "source": [
    "from config import SPOTIFY_CLIENT_ID, SPOTIFY_CLIENT_SECRET\n",
    "client_credentials_manager = SpotifyClientCredentials(client_id=SPOTIFY_CLIENT_ID,\n",
    "                                                      client_secret=SPOTIFY_CLIENT_SECRET)\n",
    "sp = spotipy.Spotify(client_credentials_manager=client_credentials_manager)"
   ]
  },
  {
   "cell_type": "markdown",
   "metadata": {},
   "source": [
    "Let's get all his albums first."
   ]
  },
  {
   "cell_type": "code",
   "execution_count": 27,
   "metadata": {},
   "outputs": [],
   "source": [
    "artist_ids = ['3FjdJbt6Myq32uv7P4owM1'] # We start with the id for Invisible already inside... not so easy to guess the search\n",
    "albums_ids = {}\n",
    "artist_names = ['Almendra', 'Pescado Rabioso', 'Spinetta Jade', 'Spinetta y los Socios del Desierto', 'Luis Alberto Spinetta', 'Spinetta, García, Ferrón']\n",
    "for an_artist_name in artist_names:\n",
    "    an_artist_id = sp.search(q='artist:' + an_artist_name, type='artist')['artists']['items'][0]['id']\n",
    "    artist_ids.append(an_artist_id)\n",
    "for an_artist_id in artist_ids:\n",
    "    some_albums_ids = [(x['id'], x['name']) for x in sp.artist_albums(an_artist_id, album_type='album', limit=50)['items']]\n",
    "    albums_ids.update({x[1]: x[0] for x in some_albums_ids})\n",
    "    "
   ]
  },
  {
   "cell_type": "code",
   "execution_count": 30,
   "metadata": {},
   "outputs": [],
   "source": [
    "albums_to_disregard = ['30 Años de Almendra', 'Almendra', 'Almendra - RCA Victor 100 Años', \n",
    "                       'Antologia Almendra', 'Argentina Sorgo Films (Live At Obras / 2001)', \n",
    "                       'Elija Y Gane', 'El Album', 'Exactas (En Vivo)', 'Inolvidables RCA - 20 Grandes Exitos', \n",
    "                       'Lo Mejor de Pescado Rabioso', 'Obras Cumbres', 'San Cristóforo', \n",
    "                       'Spinetta y Las Bandas Eternas', 'Sí o Sí - Diario del Rock Argentino - Spinetta', \n",
    "                       'Tester de Violencia', 'Festival Encuentro 1977 (En Vivo)', 'Only Love Can Sustain']\n",
    "for k in albums_to_disregard:\n",
    "    if k in albums_ids:\n",
    "        albums_ids.pop(k, None)"
   ]
  },
  {
   "cell_type": "code",
   "execution_count": 34,
   "metadata": {},
   "outputs": [
    {
     "data": {
      "text/plain": [
       "dict_keys(['El Jardin de los Presentes', 'Durazno Sangrando', 'Invisible', 'El 1er Álbum Más los Singles', 'Almendra 2', 'Artaud', 'Pescado Rabioso 2', 'Desatormentándonos', 'Bajo Belgrano', 'Los Niños Que Escriben En El Cielo', 'Madre En Años Luz', 'Alma de Diamante', 'Los Ojos', 'Spinetta y los Socios del Desierto', 'Un Mañana', 'La La La', 'Pan', 'Para Los Arboles', 'Silver Sorgo', 'Fuego Gris', 'Peluson Of Milk', 'Don Lucero', 'Téster de Violencia', 'Prive', 'Mondo Di Cromo', 'Kamikaze', 'Only Love Can Sustain', \"A 18' Del Sol\", 'Spinettalandia y Sus Amigos', 'Spinetta Los Amigo'])"
      ]
     },
     "execution_count": 34,
     "metadata": {},
     "output_type": "execute_result"
    }
   ],
   "source": [
    "albums_ids.keys()"
   ]
  },
  {
   "cell_type": "markdown",
   "metadata": {},
   "source": [
    "__Missing \"El valle interior\" (1980) of Almendra__"
   ]
  },
  {
   "cell_type": "code",
   "execution_count": 70,
   "metadata": {},
   "outputs": [],
   "source": [
    "spotify_raw_df = pd.DataFrame()\n",
    "for an_album_title, an_album_id in albums_ids.items():\n",
    "    a_dataframe = pd.DataFrame(sp.album_tracks(an_album_id)['items'])\n",
    "    a_dataframe['album'] = an_album_title\n",
    "    if not spotify_raw_df.shape[0]:\n",
    "        spotify_raw_df = pd.DataFrame(a_dataframe)\n",
    "    else:\n",
    "        spotify_raw_df = pd.concat([spotify_raw_df, a_dataframe])"
   ]
  },
  {
   "cell_type": "markdown",
   "metadata": {},
   "source": [
    "Deleting useless features and reseting index"
   ]
  },
  {
   "cell_type": "code",
   "execution_count": 71,
   "metadata": {},
   "outputs": [
    {
     "data": {
      "text/html": [
       "<div>\n",
       "<style>\n",
       "    .dataframe thead tr:only-child th {\n",
       "        text-align: right;\n",
       "    }\n",
       "\n",
       "    .dataframe thead th {\n",
       "        text-align: left;\n",
       "    }\n",
       "\n",
       "    .dataframe tbody tr th {\n",
       "        vertical-align: top;\n",
       "    }\n",
       "</style>\n",
       "<table border=\"1\" class=\"dataframe\">\n",
       "  <thead>\n",
       "    <tr style=\"text-align: right;\">\n",
       "      <th></th>\n",
       "      <th>disc_number</th>\n",
       "      <th>duration_ms</th>\n",
       "      <th>name</th>\n",
       "      <th>track_number</th>\n",
       "      <th>album</th>\n",
       "      <th>artist</th>\n",
       "      <th>author</th>\n",
       "    </tr>\n",
       "  </thead>\n",
       "  <tbody>\n",
       "    <tr>\n",
       "      <th>256</th>\n",
       "      <td>1</td>\n",
       "      <td>143640</td>\n",
       "      <td>Oh! Doctor</td>\n",
       "      <td>14</td>\n",
       "      <td>Fuego Gris</td>\n",
       "      <td>Luis Alberto Spinetta</td>\n",
       "      <td></td>\n",
       "    </tr>\n",
       "    <tr>\n",
       "      <th>292</th>\n",
       "      <td>1</td>\n",
       "      <td>367386</td>\n",
       "      <td>La Bengala Perdida</td>\n",
       "      <td>9</td>\n",
       "      <td>Téster de Violencia</td>\n",
       "      <td>Luis Alberto Spinetta</td>\n",
       "      <td></td>\n",
       "    </tr>\n",
       "    <tr>\n",
       "      <th>242</th>\n",
       "      <td>1</td>\n",
       "      <td>164066</td>\n",
       "      <td>Bahía Final</td>\n",
       "      <td>12</td>\n",
       "      <td>Silver Sorgo</td>\n",
       "      <td>Luis Alberto Spinetta</td>\n",
       "      <td></td>\n",
       "    </tr>\n",
       "    <tr>\n",
       "      <th>60</th>\n",
       "      <td>1</td>\n",
       "      <td>130080</td>\n",
       "      <td>Todas las Hojas Son del Viento</td>\n",
       "      <td>1</td>\n",
       "      <td>Artaud</td>\n",
       "      <td>Pescado Rabioso</td>\n",
       "      <td></td>\n",
       "    </tr>\n",
       "    <tr>\n",
       "      <th>139</th>\n",
       "      <td>1</td>\n",
       "      <td>282680</td>\n",
       "      <td>La Flor</td>\n",
       "      <td>12</td>\n",
       "      <td>Los Ojos</td>\n",
       "      <td>Spinetta Y Los Socios Del Desierto</td>\n",
       "      <td></td>\n",
       "    </tr>\n",
       "    <tr>\n",
       "      <th>286</th>\n",
       "      <td>1</td>\n",
       "      <td>199880</td>\n",
       "      <td>Al Ver Verás</td>\n",
       "      <td>3</td>\n",
       "      <td>Téster de Violencia</td>\n",
       "      <td>Luis Alberto Spinetta</td>\n",
       "      <td></td>\n",
       "    </tr>\n",
       "    <tr>\n",
       "      <th>204</th>\n",
       "      <td>1</td>\n",
       "      <td>251026</td>\n",
       "      <td>Un Niño Nace</td>\n",
       "      <td>18</td>\n",
       "      <td>La La La</td>\n",
       "      <td>Fito Paez</td>\n",
       "      <td></td>\n",
       "    </tr>\n",
       "    <tr>\n",
       "      <th>220</th>\n",
       "      <td>1</td>\n",
       "      <td>347986</td>\n",
       "      <td>Cisne</td>\n",
       "      <td>2</td>\n",
       "      <td>Para Los Arboles</td>\n",
       "      <td>Luis Alberto Spinetta</td>\n",
       "      <td></td>\n",
       "    </tr>\n",
       "    <tr>\n",
       "      <th>79</th>\n",
       "      <td>1</td>\n",
       "      <td>95533</td>\n",
       "      <td>Señorita Zapada</td>\n",
       "      <td>11</td>\n",
       "      <td>Pescado Rabioso 2</td>\n",
       "      <td>Pescado Rabioso</td>\n",
       "      <td></td>\n",
       "    </tr>\n",
       "    <tr>\n",
       "      <th>116</th>\n",
       "      <td>1</td>\n",
       "      <td>133333</td>\n",
       "      <td>¿No Ves Que Ya No Somos Chiquitos?</td>\n",
       "      <td>5</td>\n",
       "      <td>Madre En Años Luz</td>\n",
       "      <td>Spinetta Jade</td>\n",
       "      <td></td>\n",
       "    </tr>\n",
       "  </tbody>\n",
       "</table>\n",
       "</div>"
      ],
      "text/plain": [
       "     disc_number  duration_ms                                name  \\\n",
       "256            1       143640                          Oh! Doctor   \n",
       "292            1       367386                  La Bengala Perdida   \n",
       "242            1       164066                         Bahía Final   \n",
       "60             1       130080      Todas las Hojas Son del Viento   \n",
       "139            1       282680                             La Flor   \n",
       "286            1       199880                        Al Ver Verás   \n",
       "204            1       251026                        Un Niño Nace   \n",
       "220            1       347986                               Cisne   \n",
       "79             1        95533                     Señorita Zapada   \n",
       "116            1       133333  ¿No Ves Que Ya No Somos Chiquitos?   \n",
       "\n",
       "     track_number                album                              artist  \\\n",
       "256            14           Fuego Gris               Luis Alberto Spinetta   \n",
       "292             9  Téster de Violencia               Luis Alberto Spinetta   \n",
       "242            12         Silver Sorgo               Luis Alberto Spinetta   \n",
       "60              1               Artaud                     Pescado Rabioso   \n",
       "139            12             Los Ojos  Spinetta Y Los Socios Del Desierto   \n",
       "286             3  Téster de Violencia               Luis Alberto Spinetta   \n",
       "204            18             La La La                           Fito Paez   \n",
       "220             2     Para Los Arboles               Luis Alberto Spinetta   \n",
       "79             11    Pescado Rabioso 2                     Pescado Rabioso   \n",
       "116             5    Madre En Años Luz                       Spinetta Jade   \n",
       "\n",
       "    author  \n",
       "256         \n",
       "292         \n",
       "242         \n",
       "60          \n",
       "139         \n",
       "286         \n",
       "204         \n",
       "220         \n",
       "79          \n",
       "116         "
      ]
     },
     "execution_count": 71,
     "metadata": {},
     "output_type": "execute_result"
    }
   ],
   "source": [
    "del spotify_raw_df['available_markets']\n",
    "del spotify_raw_df['explicit']\n",
    "del spotify_raw_df['external_urls']\n",
    "del spotify_raw_df['href']\n",
    "del spotify_raw_df['is_local']\n",
    "del spotify_raw_df['preview_url']\n",
    "del spotify_raw_df['type']\n",
    "del spotify_raw_df['id']\n",
    "del spotify_raw_df['uri']\n",
    "\n",
    "spotify_raw_df = spotify_raw_df.reset_index(drop=True)\n",
    "\n",
    "for index, row in spotify_raw_df.iterrows():\n",
    "    spotify_raw_df.at[index, 'artist'] = row['artists'][0]['name'] \n",
    "    \n",
    "del spotify_raw_df['artists']\n",
    "spotify_raw_df['author'] = '' # Add author for future filling\n",
    "spotify_raw_df.sample(10)"
   ]
  },
  {
   "cell_type": "markdown",
   "metadata": {},
   "source": [
    "Let's manually complete \"El valle interior\""
   ]
  },
  {
   "cell_type": "code",
   "execution_count": 72,
   "metadata": {},
   "outputs": [
    {
     "data": {
      "text/html": [
       "<div>\n",
       "<style>\n",
       "    .dataframe thead tr:only-child th {\n",
       "        text-align: right;\n",
       "    }\n",
       "\n",
       "    .dataframe thead th {\n",
       "        text-align: left;\n",
       "    }\n",
       "\n",
       "    .dataframe tbody tr th {\n",
       "        vertical-align: top;\n",
       "    }\n",
       "</style>\n",
       "<table border=\"1\" class=\"dataframe\">\n",
       "  <thead>\n",
       "    <tr style=\"text-align: right;\">\n",
       "      <th></th>\n",
       "      <th>disc_number</th>\n",
       "      <th>duration_ms</th>\n",
       "      <th>name</th>\n",
       "      <th>track_number</th>\n",
       "      <th>album</th>\n",
       "      <th>artist</th>\n",
       "      <th>author</th>\n",
       "    </tr>\n",
       "  </thead>\n",
       "  <tbody>\n",
       "    <tr>\n",
       "      <th>369</th>\n",
       "      <td>1</td>\n",
       "      <td>523000</td>\n",
       "      <td>Miguelito, mi espíritu ha partido a tiempo</td>\n",
       "      <td>3</td>\n",
       "      <td>El valle interior</td>\n",
       "      <td>Almendra</td>\n",
       "      <td>Luis Alberto Spinetta</td>\n",
       "    </tr>\n",
       "    <tr>\n",
       "      <th>370</th>\n",
       "      <td>1</td>\n",
       "      <td>123000</td>\n",
       "      <td>Espejada</td>\n",
       "      <td>4</td>\n",
       "      <td>El valle interior</td>\n",
       "      <td>Almendra</td>\n",
       "      <td>Luis Alberto Spinetta</td>\n",
       "    </tr>\n",
       "    <tr>\n",
       "      <th>371</th>\n",
       "      <td>1</td>\n",
       "      <td>280000</td>\n",
       "      <td>Cielo fuerte (amor guaraní)</td>\n",
       "      <td>5</td>\n",
       "      <td>El valle interior</td>\n",
       "      <td>Almendra</td>\n",
       "      <td>Emilio del Guercio</td>\n",
       "    </tr>\n",
       "    <tr>\n",
       "      <th>372</th>\n",
       "      <td>1</td>\n",
       "      <td>402000</td>\n",
       "      <td>El fantasma de la buena suerte</td>\n",
       "      <td>6</td>\n",
       "      <td>El valle interior</td>\n",
       "      <td>Almendra</td>\n",
       "      <td>Luis Alberto Spinetta</td>\n",
       "    </tr>\n",
       "    <tr>\n",
       "      <th>373</th>\n",
       "      <td>1</td>\n",
       "      <td>281000</td>\n",
       "      <td>Buen día, día de sol</td>\n",
       "      <td>7</td>\n",
       "      <td>El valle interior</td>\n",
       "      <td>Almendra</td>\n",
       "      <td>Luis Alberto Spinetta</td>\n",
       "    </tr>\n",
       "  </tbody>\n",
       "</table>\n",
       "</div>"
      ],
      "text/plain": [
       "     disc_number  duration_ms                                        name  \\\n",
       "369            1       523000  Miguelito, mi espíritu ha partido a tiempo   \n",
       "370            1       123000                                    Espejada   \n",
       "371            1       280000                 Cielo fuerte (amor guaraní)   \n",
       "372            1       402000              El fantasma de la buena suerte   \n",
       "373            1       281000                        Buen día, día de sol   \n",
       "\n",
       "     track_number              album    artist                 author  \n",
       "369             3  El valle interior  Almendra  Luis Alberto Spinetta  \n",
       "370             4  El valle interior  Almendra  Luis Alberto Spinetta  \n",
       "371             5  El valle interior  Almendra     Emilio del Guercio  \n",
       "372             6  El valle interior  Almendra  Luis Alberto Spinetta  \n",
       "373             7  El valle interior  Almendra  Luis Alberto Spinetta  "
      ]
     },
     "execution_count": 72,
     "metadata": {},
     "output_type": "execute_result"
    }
   ],
   "source": [
    "columns = ['disc_number', 'duration_ms', 'name', 'track_number', 'album', 'artist', 'author']\n",
    "songs = [[1, (6*60+35)*1000, 'Las cosas para hacer', 1, \"El valle interior\", \"Almendra\", \"Emilio del Guercio\"],\n",
    "        [1, (3*60+24)*1000, 'Amidama', 2, \"El valle interior\", \"Almendra\", \"Luis Alberto Spinetta\"],\n",
    "        [1, (8*60+43)*1000, 'Miguelito, mi espíritu ha partido a tiempo', 3, \"El valle interior\", \"Almendra\", \"Luis Alberto Spinetta\"],\n",
    "        [1, (2*60+3)*1000, 'Espejada', 4, \"El valle interior\", \"Almendra\", \"Luis Alberto Spinetta\"],\n",
    "        [1, (4*60+40)*1000, 'Cielo fuerte (amor guaraní)', 5, \"El valle interior\", \"Almendra\", \"Emilio del Guercio\"],\n",
    "        [1, (6*60+42)*1000, 'El fantasma de la buena suerte', 6, \"El valle interior\", \"Almendra\", \"Luis Alberto Spinetta\"],\n",
    "        [1, (4*60+41)*1000, 'Buen día, día de sol', 7, \"El valle interior\", \"Almendra\", \"Luis Alberto Spinetta\"]]\n",
    "df_to_appends = pd.DataFrame(songs, columns=columns)\n",
    "raw_df = spotify_raw_df.append(df_to_appends, ignore_index=True)\n",
    "raw_df.tail()"
   ]
  },
  {
   "cell_type": "markdown",
   "metadata": {},
   "source": [
    "### Genius!"
   ]
  },
  {
   "cell_type": "code",
   "execution_count": 73,
   "metadata": {},
   "outputs": [],
   "source": [
    "def _get(path, params=None, headers=None):\n",
    "    from config import GENIUS_BASE_URI, GENIUS_CLIENT_ACCESS_TOKEN\n",
    "    url = '/'.join([GENIUS_BASE_URI, path])\n",
    "    token = \"Bearer {}\".format(GENIUS_CLIENT_ACCESS_TOKEN)\n",
    "\n",
    "    if headers:\n",
    "        headers['Authorization'] = token\n",
    "    else:\n",
    "        headers = {\"Authorization\": token}\n",
    "    response = requests.get(url=url, params=params, headers=headers)\n",
    "    response.raise_for_status()\n",
    "\n",
    "    return response.json()"
   ]
  },
  {
   "cell_type": "code",
   "execution_count": 88,
   "metadata": {},
   "outputs": [
    {
     "name": "stdout",
     "output_type": "stream",
     "text": [
      "-> Almendra's id is 344735\n",
      "\n",
      "-> Pescado Rabioso's id is 357615\n",
      "\n",
      "-> Spinetta Jade's id is 355287\n",
      "\n",
      "-> Spinetta y los Socios del Desierto's id is 369509\n",
      "\n",
      "-> Luis Alberto Spinetta's id is 344478\n",
      "\n",
      "-> Invisible's id is 344478\n",
      "\n"
     ]
    }
   ],
   "source": [
    "# find artist ids from given data.\n",
    "artist_names = ['Almendra',\n",
    " 'Pescado Rabioso',\n",
    " 'Spinetta Jade',\n",
    " 'Spinetta y los Socios del Desierto',\n",
    " 'Luis Alberto Spinetta',\n",
    " 'Invisible']\n",
    "\n",
    "for an_artist_name in artist_names:\n",
    "    find_id = _get(\"search\", {'q': an_artist_name})\n",
    "    for hit in find_id[\"response\"][\"hits\"]:\n",
    "        if hit[\"result\"][\"primary_artist\"][\"name\"].lower() == an_artist_name.lower():\n",
    "            artist_id = hit[\"result\"][\"primary_artist\"][\"id\"]\n",
    "            break\n",
    "\n",
    "    print(\"-> \" + an_artist_name + \"'s id is \" + str(artist_id) + \"\\n\")"
   ]
  },
  {
   "cell_type": "markdown",
   "metadata": {},
   "source": [
    "Invisible is always problems."
   ]
  },
  {
   "cell_type": "code",
   "execution_count": 94,
   "metadata": {},
   "outputs": [
    {
     "data": {
      "text/plain": [
       "{'api_path': '/artists/369283',\n",
       " 'header_image_url': 'https://images.genius.com/2d07534421dc542d2a4e7a67a39ee5ac.409x409x1.jpg',\n",
       " 'id': 369283,\n",
       " 'image_url': 'https://images.genius.com/2d07534421dc542d2a4e7a67a39ee5ac.409x409x1.jpg',\n",
       " 'is_meme_verified': False,\n",
       " 'is_verified': False,\n",
       " 'name': 'Invisible',\n",
       " 'url': 'https://genius.com/artists/Invisible'}"
      ]
     },
     "execution_count": 94,
     "metadata": {},
     "output_type": "execute_result"
    }
   ],
   "source": [
    "_get(\"search\", {'q': 'Durazno Sangrando'})[\"response\"][\"hits\"][0][\"result\"][\"primary_artist\"]"
   ]
  },
  {
   "cell_type": "markdown",
   "metadata": {},
   "source": [
    "Great, it's artist id is 369283"
   ]
  },
  {
   "cell_type": "code",
   "execution_count": 89,
   "metadata": {},
   "outputs": [],
   "source": [
    "artist_ids = {\n",
    "    'Almendra': 344735,\n",
    "    'Pescado Rabioso': 357615,\n",
    "    'Spinetta Jade': 355287,\n",
    "    'Spinetta y los Socios del Desierto': 369509,\n",
    "    'Luis Alberto Spinetta': 344478,\n",
    "    'Invisible': 369283\n",
    "}"
   ]
  },
  {
   "cell_type": "code",
   "execution_count": null,
   "metadata": {},
   "outputs": [],
   "source": []
  }
 ],
 "metadata": {
  "kernelspec": {
   "display_name": "Python 3",
   "language": "python",
   "name": "python3"
  },
  "language_info": {
   "codemirror_mode": {
    "name": "ipython",
    "version": 3
   },
   "file_extension": ".py",
   "mimetype": "text/x-python",
   "name": "python",
   "nbconvert_exporter": "python",
   "pygments_lexer": "ipython3",
   "version": "3.6.2"
  }
 },
 "nbformat": 4,
 "nbformat_minor": 2
}
